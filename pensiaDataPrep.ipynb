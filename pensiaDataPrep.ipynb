{
 "cells": [
  {
   "cell_type": "code",
   "execution_count": 1,
   "metadata": {
    "collapsed": true
   },
   "outputs": [],
   "source": [
    "import pandas as pd"
   ]
  },
  {
   "cell_type": "code",
   "execution_count": 2,
   "outputs": [
    {
     "data": {
      "text/plain": "dict_keys([2016, 2017, 2018, 2019, 2020])"
     },
     "execution_count": 2,
     "metadata": {},
     "output_type": "execute_result"
    }
   ],
   "source": [
    "dataDictionary = {}\n",
    "for year in range(2016,2021):\n",
    "    data = pd.read_excel('pensia' + str(year) + '.xlsx')\n",
    "    data['YEAR'] = year\n",
    "    data['REPORT_PERIOD'] = data['REPORT_PERIOD'].astype(str)\n",
    "    data['MONTH'] = data['REPORT_PERIOD'].str.slice(4, 6)\n",
    "    dataDictionary[year] = data\n",
    "dataDictionary.keys()"
   ],
   "metadata": {
    "collapsed": false,
    "pycharm": {
     "name": "#%%\n"
    }
   }
  },
  {
   "cell_type": "code",
   "execution_count": 3,
   "outputs": [
    {
     "data": {
      "text/plain": "      FUND_ID                                          FUND_NAME  \\\n0        1560  איילון מיטב פנסיה מקיפה פאסיבי- מדדי אג\"ח עד 2...   \n1        1560  איילון מיטב פנסיה מקיפה פאסיבי- מדדי אג\"ח עד 2...   \n2        1560  איילון מיטב פנסיה מקיפה פאסיבי- מדדי אג\"ח עד 2...   \n3        1560  איילון מיטב פנסיה מקיפה פאסיבי- מדדי אג\"ח עד 2...   \n4        1560  איילון מיטב פנסיה מקיפה פאסיבי- מדדי אג\"ח עד 2...   \n...       ...                                                ...   \n2107    12419                     אלטשולר שחם פנסיה מקיפה מניות    \n2108    12419                     אלטשולר שחם פנסיה מקיפה מניות    \n2109    12419                     אלטשולר שחם פנסיה מקיפה מניות    \n2110    12419                     אלטשולר שחם פנסיה מקיפה מניות    \n2111    12419                     אלטשולר שחם פנסיה מקיפה מניות    \n\n      PARENT_COMPANY_ID      PARENT_COMPANY_NAME FUND_CLASSIFICATION  \\\n0                   163  איילון מיטב פנסיה מקיפה         קרנות חדשות   \n1                   163  איילון מיטב פנסיה מקיפה         קרנות חדשות   \n2                   163  איילון מיטב פנסיה מקיפה         קרנות חדשות   \n3                   163  איילון מיטב פנסיה מקיפה         קרנות חדשות   \n4                   163  איילון מיטב פנסיה מקיפה         קרנות חדשות   \n...                 ...                      ...                 ...   \n2107               1328  אלטשולר שחם פנסיה מקיפה         קרנות חדשות   \n2108               1328  אלטשולר שחם פנסיה מקיפה         קרנות חדשות   \n2109               1328  אלטשולר שחם פנסיה מקיפה         קרנות חדשות   \n2110               1328  אלטשולר שחם פנסיה מקיפה         קרנות חדשות   \n2111               1328  אלטשולר שחם פנסיה מקיפה         קרנות חדשות   \n\n     CONTROLLING_CORPORATION         MANAGING_CORPORATION REPORT_PERIOD  \\\n0        מיטב דש השקעות בע\"מ      מיטב דש גמל ופנסיה בע\"מ        201601   \n1        מיטב דש השקעות בע\"מ      מיטב דש גמל ופנסיה בע\"מ        201602   \n2        מיטב דש השקעות בע\"מ      מיטב דש גמל ופנסיה בע\"מ        201603   \n3        מיטב דש השקעות בע\"מ      מיטב דש גמל ופנסיה בע\"מ        201604   \n4        מיטב דש השקעות בע\"מ      מיטב דש גמל ופנסיה בע\"מ        201605   \n...                      ...                          ...           ...   \n2107        אלטשולר שחם בע\"מ  אלטשולר שחם גמל ופנסיה בע\"מ        202008   \n2108        אלטשולר שחם בע\"מ  אלטשולר שחם גמל ופנסיה בע\"מ        202009   \n2109        אלטשולר שחם בע\"מ  אלטשולר שחם גמל ופנסיה בע\"מ        202010   \n2110        אלטשולר שחם בע\"מ  אלטשולר שחם גמל ופנסיה בע\"מ        202011   \n2111        אלטשולר שחם בע\"מ  אלטשולר שחם גמל ופנסיה בע\"מ        202012   \n\n     INCEPTION_DATE  DEPOSITS  ...  ALPHA  SHARPE_RATIO  \\\n0        2015-12-31       NaN  ...    NaN           NaN   \n1        2015-12-31       NaN  ...    NaN           NaN   \n2        2015-12-31       NaN  ...    NaN           NaN   \n3        2015-12-31       NaN  ...    NaN           NaN   \n4        2015-12-31       NaN  ...    NaN           NaN   \n...             ...       ...  ...    ...           ...   \n2107     2018-05-31       0.0  ...    NaN           NaN   \n2108     2018-05-31       0.0  ...    NaN           NaN   \n2109     2018-05-31       0.0  ...    NaN           NaN   \n2110     2018-05-31       0.0  ...    NaN           NaN   \n2111     2018-05-31       0.0  ...    NaN           NaN   \n\n      LIQUID_ASSETS_PERCENT  STOCK_MARKET_EXPOSURE  FOREIGN_EXPOSURE  \\\n0                       NaN                    NaN               NaN   \n1                       NaN                    NaN               NaN   \n2                       NaN                    NaN               NaN   \n3                       NaN                    NaN               NaN   \n4                       NaN                    NaN               NaN   \n...                     ...                    ...               ...   \n2107                   90.3                 875.80            789.24   \n2108                   90.6                 892.78            799.45   \n2109                   90.6                 972.64            859.41   \n2110                   90.9                1078.60            957.77   \n2111                   91.3                1301.19           1163.89   \n\n      FOREIGN_CURRENCY_EXPOSURE  MANAGING_CORPORATION_LEGAL_ID  CURRENT_DATE  \\\n0                           NaN                      512065202    2018-08-06   \n1                           NaN                      512065202    2018-08-06   \n2                           NaN                      512065202    2018-08-06   \n3                           NaN                      512065202    2018-08-06   \n4                           NaN                      512065202    2018-08-06   \n...                         ...                            ...           ...   \n2107                     392.28                      513173393    2021-06-22   \n2108                     422.25                      513173393    2021-06-22   \n2109                     443.55                      513173393    2021-06-22   \n2110                     518.51                      513173393    2021-06-22   \n2111                     570.27                      513173393    2021-06-22   \n\n      YEAR  MONTH  \n0     2016     01  \n1     2016     02  \n2     2016     03  \n3     2016     04  \n4     2016     05  \n...    ...    ...  \n2107  2020     08  \n2108  2020     09  \n2109  2020     10  \n2110  2020     11  \n2111  2020     12  \n\n[10012 rows x 34 columns]",
      "text/html": "<div>\n<style scoped>\n    .dataframe tbody tr th:only-of-type {\n        vertical-align: middle;\n    }\n\n    .dataframe tbody tr th {\n        vertical-align: top;\n    }\n\n    .dataframe thead th {\n        text-align: right;\n    }\n</style>\n<table border=\"1\" class=\"dataframe\">\n  <thead>\n    <tr style=\"text-align: right;\">\n      <th></th>\n      <th>FUND_ID</th>\n      <th>FUND_NAME</th>\n      <th>PARENT_COMPANY_ID</th>\n      <th>PARENT_COMPANY_NAME</th>\n      <th>FUND_CLASSIFICATION</th>\n      <th>CONTROLLING_CORPORATION</th>\n      <th>MANAGING_CORPORATION</th>\n      <th>REPORT_PERIOD</th>\n      <th>INCEPTION_DATE</th>\n      <th>DEPOSITS</th>\n      <th>...</th>\n      <th>ALPHA</th>\n      <th>SHARPE_RATIO</th>\n      <th>LIQUID_ASSETS_PERCENT</th>\n      <th>STOCK_MARKET_EXPOSURE</th>\n      <th>FOREIGN_EXPOSURE</th>\n      <th>FOREIGN_CURRENCY_EXPOSURE</th>\n      <th>MANAGING_CORPORATION_LEGAL_ID</th>\n      <th>CURRENT_DATE</th>\n      <th>YEAR</th>\n      <th>MONTH</th>\n    </tr>\n  </thead>\n  <tbody>\n    <tr>\n      <th>0</th>\n      <td>1560</td>\n      <td>איילון מיטב פנסיה מקיפה פאסיבי- מדדי אג\"ח עד 2...</td>\n      <td>163</td>\n      <td>איילון מיטב פנסיה מקיפה</td>\n      <td>קרנות חדשות</td>\n      <td>מיטב דש השקעות בע\"מ</td>\n      <td>מיטב דש גמל ופנסיה בע\"מ</td>\n      <td>201601</td>\n      <td>2015-12-31</td>\n      <td>NaN</td>\n      <td>...</td>\n      <td>NaN</td>\n      <td>NaN</td>\n      <td>NaN</td>\n      <td>NaN</td>\n      <td>NaN</td>\n      <td>NaN</td>\n      <td>512065202</td>\n      <td>2018-08-06</td>\n      <td>2016</td>\n      <td>01</td>\n    </tr>\n    <tr>\n      <th>1</th>\n      <td>1560</td>\n      <td>איילון מיטב פנסיה מקיפה פאסיבי- מדדי אג\"ח עד 2...</td>\n      <td>163</td>\n      <td>איילון מיטב פנסיה מקיפה</td>\n      <td>קרנות חדשות</td>\n      <td>מיטב דש השקעות בע\"מ</td>\n      <td>מיטב דש גמל ופנסיה בע\"מ</td>\n      <td>201602</td>\n      <td>2015-12-31</td>\n      <td>NaN</td>\n      <td>...</td>\n      <td>NaN</td>\n      <td>NaN</td>\n      <td>NaN</td>\n      <td>NaN</td>\n      <td>NaN</td>\n      <td>NaN</td>\n      <td>512065202</td>\n      <td>2018-08-06</td>\n      <td>2016</td>\n      <td>02</td>\n    </tr>\n    <tr>\n      <th>2</th>\n      <td>1560</td>\n      <td>איילון מיטב פנסיה מקיפה פאסיבי- מדדי אג\"ח עד 2...</td>\n      <td>163</td>\n      <td>איילון מיטב פנסיה מקיפה</td>\n      <td>קרנות חדשות</td>\n      <td>מיטב דש השקעות בע\"מ</td>\n      <td>מיטב דש גמל ופנסיה בע\"מ</td>\n      <td>201603</td>\n      <td>2015-12-31</td>\n      <td>NaN</td>\n      <td>...</td>\n      <td>NaN</td>\n      <td>NaN</td>\n      <td>NaN</td>\n      <td>NaN</td>\n      <td>NaN</td>\n      <td>NaN</td>\n      <td>512065202</td>\n      <td>2018-08-06</td>\n      <td>2016</td>\n      <td>03</td>\n    </tr>\n    <tr>\n      <th>3</th>\n      <td>1560</td>\n      <td>איילון מיטב פנסיה מקיפה פאסיבי- מדדי אג\"ח עד 2...</td>\n      <td>163</td>\n      <td>איילון מיטב פנסיה מקיפה</td>\n      <td>קרנות חדשות</td>\n      <td>מיטב דש השקעות בע\"מ</td>\n      <td>מיטב דש גמל ופנסיה בע\"מ</td>\n      <td>201604</td>\n      <td>2015-12-31</td>\n      <td>NaN</td>\n      <td>...</td>\n      <td>NaN</td>\n      <td>NaN</td>\n      <td>NaN</td>\n      <td>NaN</td>\n      <td>NaN</td>\n      <td>NaN</td>\n      <td>512065202</td>\n      <td>2018-08-06</td>\n      <td>2016</td>\n      <td>04</td>\n    </tr>\n    <tr>\n      <th>4</th>\n      <td>1560</td>\n      <td>איילון מיטב פנסיה מקיפה פאסיבי- מדדי אג\"ח עד 2...</td>\n      <td>163</td>\n      <td>איילון מיטב פנסיה מקיפה</td>\n      <td>קרנות חדשות</td>\n      <td>מיטב דש השקעות בע\"מ</td>\n      <td>מיטב דש גמל ופנסיה בע\"מ</td>\n      <td>201605</td>\n      <td>2015-12-31</td>\n      <td>NaN</td>\n      <td>...</td>\n      <td>NaN</td>\n      <td>NaN</td>\n      <td>NaN</td>\n      <td>NaN</td>\n      <td>NaN</td>\n      <td>NaN</td>\n      <td>512065202</td>\n      <td>2018-08-06</td>\n      <td>2016</td>\n      <td>05</td>\n    </tr>\n    <tr>\n      <th>...</th>\n      <td>...</td>\n      <td>...</td>\n      <td>...</td>\n      <td>...</td>\n      <td>...</td>\n      <td>...</td>\n      <td>...</td>\n      <td>...</td>\n      <td>...</td>\n      <td>...</td>\n      <td>...</td>\n      <td>...</td>\n      <td>...</td>\n      <td>...</td>\n      <td>...</td>\n      <td>...</td>\n      <td>...</td>\n      <td>...</td>\n      <td>...</td>\n      <td>...</td>\n      <td>...</td>\n    </tr>\n    <tr>\n      <th>2107</th>\n      <td>12419</td>\n      <td>אלטשולר שחם פנסיה מקיפה מניות</td>\n      <td>1328</td>\n      <td>אלטשולר שחם פנסיה מקיפה</td>\n      <td>קרנות חדשות</td>\n      <td>אלטשולר שחם בע\"מ</td>\n      <td>אלטשולר שחם גמל ופנסיה בע\"מ</td>\n      <td>202008</td>\n      <td>2018-05-31</td>\n      <td>0.0</td>\n      <td>...</td>\n      <td>NaN</td>\n      <td>NaN</td>\n      <td>90.3</td>\n      <td>875.80</td>\n      <td>789.24</td>\n      <td>392.28</td>\n      <td>513173393</td>\n      <td>2021-06-22</td>\n      <td>2020</td>\n      <td>08</td>\n    </tr>\n    <tr>\n      <th>2108</th>\n      <td>12419</td>\n      <td>אלטשולר שחם פנסיה מקיפה מניות</td>\n      <td>1328</td>\n      <td>אלטשולר שחם פנסיה מקיפה</td>\n      <td>קרנות חדשות</td>\n      <td>אלטשולר שחם בע\"מ</td>\n      <td>אלטשולר שחם גמל ופנסיה בע\"מ</td>\n      <td>202009</td>\n      <td>2018-05-31</td>\n      <td>0.0</td>\n      <td>...</td>\n      <td>NaN</td>\n      <td>NaN</td>\n      <td>90.6</td>\n      <td>892.78</td>\n      <td>799.45</td>\n      <td>422.25</td>\n      <td>513173393</td>\n      <td>2021-06-22</td>\n      <td>2020</td>\n      <td>09</td>\n    </tr>\n    <tr>\n      <th>2109</th>\n      <td>12419</td>\n      <td>אלטשולר שחם פנסיה מקיפה מניות</td>\n      <td>1328</td>\n      <td>אלטשולר שחם פנסיה מקיפה</td>\n      <td>קרנות חדשות</td>\n      <td>אלטשולר שחם בע\"מ</td>\n      <td>אלטשולר שחם גמל ופנסיה בע\"מ</td>\n      <td>202010</td>\n      <td>2018-05-31</td>\n      <td>0.0</td>\n      <td>...</td>\n      <td>NaN</td>\n      <td>NaN</td>\n      <td>90.6</td>\n      <td>972.64</td>\n      <td>859.41</td>\n      <td>443.55</td>\n      <td>513173393</td>\n      <td>2021-06-22</td>\n      <td>2020</td>\n      <td>10</td>\n    </tr>\n    <tr>\n      <th>2110</th>\n      <td>12419</td>\n      <td>אלטשולר שחם פנסיה מקיפה מניות</td>\n      <td>1328</td>\n      <td>אלטשולר שחם פנסיה מקיפה</td>\n      <td>קרנות חדשות</td>\n      <td>אלטשולר שחם בע\"מ</td>\n      <td>אלטשולר שחם גמל ופנסיה בע\"מ</td>\n      <td>202011</td>\n      <td>2018-05-31</td>\n      <td>0.0</td>\n      <td>...</td>\n      <td>NaN</td>\n      <td>NaN</td>\n      <td>90.9</td>\n      <td>1078.60</td>\n      <td>957.77</td>\n      <td>518.51</td>\n      <td>513173393</td>\n      <td>2021-06-22</td>\n      <td>2020</td>\n      <td>11</td>\n    </tr>\n    <tr>\n      <th>2111</th>\n      <td>12419</td>\n      <td>אלטשולר שחם פנסיה מקיפה מניות</td>\n      <td>1328</td>\n      <td>אלטשולר שחם פנסיה מקיפה</td>\n      <td>קרנות חדשות</td>\n      <td>אלטשולר שחם בע\"מ</td>\n      <td>אלטשולר שחם גמל ופנסיה בע\"מ</td>\n      <td>202012</td>\n      <td>2018-05-31</td>\n      <td>0.0</td>\n      <td>...</td>\n      <td>NaN</td>\n      <td>NaN</td>\n      <td>91.3</td>\n      <td>1301.19</td>\n      <td>1163.89</td>\n      <td>570.27</td>\n      <td>513173393</td>\n      <td>2021-06-22</td>\n      <td>2020</td>\n      <td>12</td>\n    </tr>\n  </tbody>\n</table>\n<p>10012 rows × 34 columns</p>\n</div>"
     },
     "execution_count": 3,
     "metadata": {},
     "output_type": "execute_result"
    }
   ],
   "source": [
    "allYearsData =pd.concat(dataDictionary.values())\n",
    "# allYearsData = allYearsData.drop(['ID', 'REPORT_PERIOD'], axis=1)\n",
    "allYearsData = allYearsData.drop(['ID'], axis=1)\n",
    "allYearsData.to_excel('pensiaAllYears.xlsx')\n",
    "allYearsData"
   ],
   "metadata": {
    "collapsed": false,
    "pycharm": {
     "name": "#%%\n"
    }
   }
  }
 ],
 "metadata": {
  "kernelspec": {
   "display_name": "Python 3",
   "language": "python",
   "name": "python3"
  },
  "language_info": {
   "codemirror_mode": {
    "name": "ipython",
    "version": 2
   },
   "file_extension": ".py",
   "mimetype": "text/x-python",
   "name": "python",
   "nbconvert_exporter": "python",
   "pygments_lexer": "ipython2",
   "version": "2.7.6"
  }
 },
 "nbformat": 4,
 "nbformat_minor": 0
}